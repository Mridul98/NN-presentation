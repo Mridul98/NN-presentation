{
 "cells": [
  {
   "cell_type": "markdown",
   "metadata": {},
   "source": [
    "Creating 1000 training Dataset with three features using pandas in python."
   ]
  },
  {
   "cell_type": "code",
   "execution_count": 1,
   "metadata": {
    "scrolled": true
   },
   "outputs": [
    {
     "data": {
      "text/html": [
       "<div>\n",
       "<style scoped>\n",
       "    .dataframe tbody tr th:only-of-type {\n",
       "        vertical-align: middle;\n",
       "    }\n",
       "\n",
       "    .dataframe tbody tr th {\n",
       "        vertical-align: top;\n",
       "    }\n",
       "\n",
       "    .dataframe thead th {\n",
       "        text-align: right;\n",
       "    }\n",
       "</style>\n",
       "<table border=\"1\" class=\"dataframe\">\n",
       "  <thead>\n",
       "    <tr style=\"text-align: right;\">\n",
       "      <th></th>\n",
       "      <th>x1</th>\n",
       "      <th>x2</th>\n",
       "      <th>x3</th>\n",
       "      <th>y</th>\n",
       "    </tr>\n",
       "  </thead>\n",
       "  <tbody>\n",
       "    <tr>\n",
       "      <th>0</th>\n",
       "      <td>0.496714</td>\n",
       "      <td>-0.138264</td>\n",
       "      <td>0.647689</td>\n",
       "      <td>1.0</td>\n",
       "    </tr>\n",
       "    <tr>\n",
       "      <th>1</th>\n",
       "      <td>1.523030</td>\n",
       "      <td>-0.234153</td>\n",
       "      <td>-0.234137</td>\n",
       "      <td>1.0</td>\n",
       "    </tr>\n",
       "    <tr>\n",
       "      <th>2</th>\n",
       "      <td>1.579213</td>\n",
       "      <td>0.767435</td>\n",
       "      <td>-0.469474</td>\n",
       "      <td>1.0</td>\n",
       "    </tr>\n",
       "    <tr>\n",
       "      <th>3</th>\n",
       "      <td>0.542560</td>\n",
       "      <td>-0.463418</td>\n",
       "      <td>-0.465730</td>\n",
       "      <td>1.0</td>\n",
       "    </tr>\n",
       "    <tr>\n",
       "      <th>4</th>\n",
       "      <td>0.241962</td>\n",
       "      <td>-1.913280</td>\n",
       "      <td>-1.724918</td>\n",
       "      <td>1.0</td>\n",
       "    </tr>\n",
       "    <tr>\n",
       "      <th>...</th>\n",
       "      <td>...</td>\n",
       "      <td>...</td>\n",
       "      <td>...</td>\n",
       "      <td>...</td>\n",
       "    </tr>\n",
       "    <tr>\n",
       "      <th>995</th>\n",
       "      <td>-0.960046</td>\n",
       "      <td>-0.122709</td>\n",
       "      <td>0.093372</td>\n",
       "      <td>0.0</td>\n",
       "    </tr>\n",
       "    <tr>\n",
       "      <th>996</th>\n",
       "      <td>-1.130204</td>\n",
       "      <td>2.411677</td>\n",
       "      <td>1.516394</td>\n",
       "      <td>0.0</td>\n",
       "    </tr>\n",
       "    <tr>\n",
       "      <th>997</th>\n",
       "      <td>0.602118</td>\n",
       "      <td>0.072037</td>\n",
       "      <td>-0.212209</td>\n",
       "      <td>0.0</td>\n",
       "    </tr>\n",
       "    <tr>\n",
       "      <th>998</th>\n",
       "      <td>-0.951918</td>\n",
       "      <td>0.077481</td>\n",
       "      <td>0.257753</td>\n",
       "      <td>0.0</td>\n",
       "    </tr>\n",
       "    <tr>\n",
       "      <th>999</th>\n",
       "      <td>-1.241761</td>\n",
       "      <td>0.334176</td>\n",
       "      <td>-0.155259</td>\n",
       "      <td>0.0</td>\n",
       "    </tr>\n",
       "  </tbody>\n",
       "</table>\n",
       "<p>1000 rows × 4 columns</p>\n",
       "</div>"
      ],
      "text/plain": [
       "           x1        x2        x3    y\n",
       "0    0.496714 -0.138264  0.647689  1.0\n",
       "1    1.523030 -0.234153 -0.234137  1.0\n",
       "2    1.579213  0.767435 -0.469474  1.0\n",
       "3    0.542560 -0.463418 -0.465730  1.0\n",
       "4    0.241962 -1.913280 -1.724918  1.0\n",
       "..        ...       ...       ...  ...\n",
       "995 -0.960046 -0.122709  0.093372  0.0\n",
       "996 -1.130204  2.411677  1.516394  0.0\n",
       "997  0.602118  0.072037 -0.212209  0.0\n",
       "998 -0.951918  0.077481  0.257753  0.0\n",
       "999 -1.241761  0.334176 -0.155259  0.0\n",
       "\n",
       "[1000 rows x 4 columns]"
      ]
     },
     "execution_count": 1,
     "metadata": {},
     "output_type": "execute_result"
    }
   ],
   "source": [
    "import pandas as pd\n",
    "import numpy as np\n",
    "import math\n",
    "import matplotlib.pyplot as plt\n",
    "np.random.seed(42)\n",
    "training = pd.DataFrame(np.random.randn(1000,3),columns = ['x1','x2','x3'])\n",
    "\n",
    "training['y'] = np.ones(1000)\n",
    "midpoints = int(training.shape[0]/2)\n",
    "training['y'][midpoints:] = 0\n",
    "trainingAfterShuffle = training.sample(frac = 1)\n",
    "training\n",
    "\n",
    "\n",
    "\n"
   ]
  },
  {
   "cell_type": "markdown",
   "metadata": {},
   "source": [
    "Building two layer neural network object..\n",
    "1 hidden layer and 1 output layer\n",
    "\n",
    "hidden layer size = 4\n",
    "output layer size = 1\n",
    "\n",
    "loss function = SSE\n",
    "\n",
    "training sample size = (1000X3)\n",
    "\n",
    "hidden layer input weight matrix (3X4) variable name = pre_active_weights\n",
    "\n",
    "hidden layer output weight matrix (4X1) variable name = activated_weights\n",
    "\n",
    "hidden layer and output layers activation function = sigmoid\n",
    "\n",
    "loss function = SSE()\n",
    "\n",
    "dot product between two matrices function name = linearDot()\n",
    "\n",
    "sigmoid derivative function = sigder()\n",
    "\n",
    "\n",
    "\n",
    "\n"
   ]
  },
  {
   "cell_type": "code",
   "execution_count": 2,
   "metadata": {
    "scrolled": false
   },
   "outputs": [
    {
     "name": "stderr",
     "output_type": "stream",
     "text": [
      "C:\\Users\\Granite\\Anaconda3\\lib\\site-packages\\ipykernel_launcher.py:25: RuntimeWarning: overflow encountered in exp\n"
     ]
    },
    {
     "data": {
      "text/plain": [
       "[<matplotlib.lines.Line2D at 0x221fef85a48>]"
      ]
     },
     "execution_count": 2,
     "metadata": {},
     "output_type": "execute_result"
    },
    {
     "data": {
      "image/png": "[encoded data removed]",
      "text/plain": [
       "<Figure size 432x288 with 1 Axes>"
      ]
     },
     "metadata": {
      "needs_background": "light"
     },
     "output_type": "display_data"
    }
   ],
   "source": [
    "def dimensions(x):\n",
    "    for i in x:\n",
    "        print(i.shape)\n",
    "\n",
    "\n",
    "\n",
    "class neural_network:\n",
    "    def __init__(self,feature_size,inputs,hidden_layer_size,output_layer_size,loss_function):\n",
    "        self.feature_size = feature_size\n",
    "        self.inputs = inputs   #training set\n",
    "        self.y = inputs[:,self.feature_size]\n",
    "        self.y = np.reshape(self.y,(1000,1))\n",
    "        self.output_layers = output_layer_size\n",
    "        self.loss_func = loss_function\n",
    "        self.y_pred = []\n",
    "        self.inputs = np.delete(self.inputs,self.feature_size,1)\n",
    "        instances = self.inputs.shape[0]\n",
    "        self.pre_active_weights = np.random.randn(self.feature_size,hidden_layer_size)\n",
    "        self.activated_weights = np.random.randn(hidden_layer_size,self.output_layers)\n",
    "        self.preActive = []\n",
    "        self.trainerrors = []\n",
    "        self.testerrors = []\n",
    "    \n",
    "    def sigmoid(self,X):\n",
    "        val = 1/(1+np.exp(-X))\n",
    "        return val*(1-val)\n",
    "\n",
    "    def sigder(self,X):\n",
    "        return X*(1-X)\n",
    "    \n",
    "    def linearDot(self,X,W):\n",
    "        return np.dot(X,W)\n",
    "    \n",
    "    \n",
    "    def SSE(self,y,y_pred):\n",
    "        errors = (y-y_pred)**2\n",
    "        return np.sum(errors)\n",
    "    \n",
    "    def softmax(X):\n",
    "        shiftx = X - np.max(X)\n",
    "        exps = np.exp(shiftx)\n",
    "        return exps / np.sum(exps)\n",
    "    \n",
    "    def crossEntropyLoss(output,label):\n",
    "        return output-label\n",
    "    \n",
    "    def trainForSoftMax(self,traindata,lr,epoch,hot_label):\n",
    "#           --------------forward propagation-----------------\n",
    "            self.preActive = self.linearDot(self.inputs, self.pre_active_weights)\n",
    "            sigmoided = self.sigmoid(self.preActive)\n",
    "            self.y_pred = self.linearDot(sigmoided,self.activated_weights)\n",
    "            self.y_pred_sigmoid = self.sigmoid(self.y_pred)\n",
    "            softmax = softmax(self.y_pred_sigmoid)\n",
    "            dloss_da = softmax-hot_label\n",
    "             \n",
    "    \n",
    "    \n",
    "    def train(self,lr,epoch):\n",
    "        \n",
    "        for i in range(epoch):\n",
    "            \n",
    "           \n",
    "            \n",
    "            \n",
    "#           --------------forward propagation-----------------\n",
    "            self.preActive = self.linearDot(self.inputs, self.pre_active_weights)\n",
    "            sigmoided = self.sigmoid(self.preActive)\n",
    "            self.y_pred = self.linearDot(sigmoided,self.activated_weights)\n",
    "            self.y_pred_sigmoid = self.sigmoid(self.y_pred)\n",
    "\n",
    "#           --------------error calculation----------------\n",
    "            \n",
    "            errors = self.SSE(self.y,self.y_pred_sigmoid)\n",
    "\n",
    "#           --------------gradient calculation and backpropagation----------\n",
    "            derrors_dyps = -2*np.sum(self.y-self.y_pred_sigmoid)\n",
    "            derrors_dyps = np.reshape(derrors_dyps,(1,1))\n",
    "            dyps_dyp = self.sigder(self.y_pred_sigmoid)\n",
    "            dyp_dw_active = sigmoided\n",
    "        \n",
    "            dyp_ds = self.activated_weights\n",
    "            ds_dz = self.sigder(sigmoided)\n",
    "            dz_dw_pre = self.inputs.T\n",
    "            derrors_dyp = np.dot(dyps_dyp,derrors_dyps)\n",
    "            derrors_dw_act =np.dot(sigmoided.T,derrors_dyp)\n",
    "            derrors_dw_pre = np.dot(dz_dw_pre,np.dot(derrors_dyp,dyp_ds.T))\n",
    "        \n",
    "#           updating weights\n",
    "            self.activated_weights -= lr*derrors_dw_act\n",
    "            self.pre_active_weights -= lr*derrors_dw_pre\n",
    "\n",
    "#           storing error values for plotting\n",
    "            self.trainerrors.append(errors)\n",
    "            \n",
    "\n",
    "        \n",
    "    \n",
    "    \n",
    "        \n",
    "    \n",
    "    def test(self,testData,y):\n",
    "        pre = self.linearDot(testData, self.pre_active_weights)\n",
    "        sigmoided = self.sigmoid(pre)\n",
    "        y_pred = self.linearDot(sigmoided,self.activated_weights)\n",
    "        \n",
    "        y_pred_sigmoid = self.sigmoid(y_pred)\n",
    "        \n",
    "        errors = self.SSE(y,y_pred_sigmoid)\n",
    "        self.testerrors.append(errors)\n",
    "        \n",
    "    \n",
    "        \n",
    "        \n",
    "        \n",
    "        \n",
    "inputs = training.to_numpy()          \n",
    "nn = neural_network(feature_size = 3,inputs = inputs,\n",
    "                    hidden_layer_size = 4,output_layer_size = 1,\n",
    "                    loss_function = 'SSE')\n",
    "epoch = 20000\n",
    "nn.train(0.0003,epoch)\n",
    "iteration = [i for i in range(epoch)]\n",
    "plt.xlabel('epoch')\n",
    "plt.ylabel(\"errors\")\n",
    "plt.plot(iteration,nn.trainerrors)\n",
    "\n",
    "\n",
    "\n",
    "        "
   ]
  },
  {
   "cell_type": "markdown",
   "metadata": {},
   "source": [
    "creating test dateset....\n"
   ]
  },
  {
   "cell_type": "code",
   "execution_count": 3,
   "metadata": {},
   "outputs": [],
   "source": [
    "testing = pd.DataFrame(np.random.randn(100,3),columns = ['x1','x2','x3'])\n",
    "\n",
    "testing['y'] = np.ones(100)\n",
    "midpoints = int(testing.shape[0]/2)\n",
    "testing['y'][midpoints:] = 0\n",
    "testing = testing.sample(frac = 1)\n",
    "label = testing['y'].to_numpy()\n",
    "label = np.reshape(label,(100,1))\n",
    "testing = np.delete(testing.to_numpy(),testing.shape[1]-1,1)\n",
    "\n",
    "# testing  = np.delete(testing)\n",
    "# # testing = np.delete(testing,4,1)\n",
    "# # testing\n",
    "\n"
   ]
  },
  {
   "cell_type": "markdown",
   "metadata": {},
   "source": [
    "forward propagating the test dataset "
   ]
  },
  {
   "cell_type": "code",
   "execution_count": 4,
   "metadata": {
    "scrolled": true
   },
   "outputs": [
    {
     "name": "stdout",
     "output_type": "stream",
     "text": [
      "testloss using SSE:  31.25\n"
     ]
    },
    {
     "name": "stderr",
     "output_type": "stream",
     "text": [
      "C:\\Users\\Granite\\Anaconda3\\lib\\site-packages\\ipykernel_launcher.py:25: RuntimeWarning: overflow encountered in exp\n"
     ]
    }
   ],
   "source": [
    "nn.test(testing,label)\n",
    "for x in nn.testerrors:\n",
    "    print(\"testloss using SSE: \", x)"
   ]
  },
  {
   "cell_type": "markdown",
   "metadata": {},
   "source": [
    "Modifying the training dataset for classification using softmax  cross entropy loss.\n",
    "We are gonna use one hot label encoding to classify two different classes\n"
   ]
  },
  {
   "cell_type": "code",
   "execution_count": 5,
   "metadata": {
    "scrolled": false
   },
   "outputs": [],
   "source": [
    "# training = training.drop('y',axis = 1)\n",
    "training\n",
    "x1 = np.tile(np.array([1,0]),(500,1))\n",
    "x2 = np.tile(np.array([0,1]),(500,1))\n",
    "labels = np.vstack((x1,x2))\n",
    "labels.shape\n",
    "\n",
    "training= training.to_numpy()\n",
    "trainingset = np.append(training,labels,axis = 1)\n",
    "\n"
   ]
  },
  {
   "cell_type": "code",
   "execution_count": 6,
   "metadata": {},
   "outputs": [],
   "source": [
    "trainingset = np.append(training,labels,axis = 1)"
   ]
  },
  {
   "cell_type": "code",
   "execution_count": 7,
   "metadata": {},
   "outputs": [],
   "source": [
    "np.random.shuffle(trainingset)"
   ]
  },
  {
   "cell_type": "code",
   "execution_count": 8,
   "metadata": {},
   "outputs": [
    {
     "data": {
      "text/plain": [
       "(1000, 6)"
      ]
     },
     "execution_count": 8,
     "metadata": {},
     "output_type": "execute_result"
    }
   ],
   "source": [
    "trainingset.shape"
   ]
  },
  {
   "cell_type": "code",
   "execution_count": 9,
   "metadata": {},
   "outputs": [],
   "source": [
    "hotencoding = np.array(list(zip(trainingset[:,4],trainingset[:,5])))"
   ]
  },
  {
   "cell_type": "code",
   "execution_count": 10,
   "metadata": {},
   "outputs": [
    {
     "data": {
      "text/plain": [
       "array([[0., 1.],\n",
       "       [1., 0.],\n",
       "       [0., 1.],\n",
       "       ...,\n",
       "       [1., 0.],\n",
       "       [1., 0.],\n",
       "       [1., 0.]])"
      ]
     },
     "execution_count": 10,
     "metadata": {},
     "output_type": "execute_result"
    }
   ],
   "source": [
    "hotencoding"
   ]
  },
  {
   "cell_type": "code",
   "execution_count": null,
   "metadata": {},
   "outputs": [],
   "source": []
  }
 ],
 "metadata": {
  "kernelspec": {
   "display_name": "Python 3",
   "language": "python",
   "name": "python3"
  },
  "language_info": {
   "codemirror_mode": {
    "name": "ipython",
    "version": 3
   },
   "file_extension": ".py",
   "mimetype": "text/x-python",
   "name": "python",
   "nbconvert_exporter": "python",
   "pygments_lexer": "ipython3",
   "version": "3.7.6"
  }
 },
 "nbformat": 4,
 "nbformat_minor": 2
}
